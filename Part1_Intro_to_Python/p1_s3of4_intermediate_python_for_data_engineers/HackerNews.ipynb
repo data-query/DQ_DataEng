{
 "cells": [
  {
   "cell_type": "markdown",
   "metadata": {},
   "source": [
    "# Hacker News Posts\n",
    "\n",
    "Use data from Hacker News Posts for analysis. Looking specifically at posts with \"Ask HN\" or \"Show HN\".\n",
    "\n",
    "We are going to compare these two types of post to determin the following:\n",
    "  - Do \"Ask HN\" or \"Show HN\" receive more comments on average?\n",
    "  - Do posts created at a certain time receive more comments on average?\n",
    "  "
   ]
  },
  {
   "cell_type": "markdown",
   "metadata": {},
   "source": [
    "Below are descriptions of the columns:\n",
    "\n",
    "  - id: The unique identifier from Hacker News for the post\n",
    "  - title: The title of the post\n",
    "  - url: The URL that the posts links to, if it the post has a URL\n",
    "  - num_points: The number of points the post acquired, calculated as the total number of upvotes minus the total number of downvotes\n",
    "  - num_comments: The number of comments that were made on the post\n",
    "  - author: The username of the person who submitted the post\n",
    "  - created_at: The date and time at which the post was submitted"
   ]
  },
  {
   "cell_type": "markdown",
   "metadata": {},
   "source": [
    "### 1: Introduction - Start"
   ]
  },
  {
   "cell_type": "code",
   "execution_count": 1,
   "metadata": {
    "scrolled": true
   },
   "outputs": [],
   "source": [
    "from csv import reader\n",
    "\n",
    "# Use the open() function to open the csv\n",
    "# file hacker_news.csv\n",
    "opened_file = open('hacker_news.csv')\n",
    "\n",
    "# Use the reader() function to read the \n",
    "# opened file.\n",
    "read_file = reader(opened_file)\n",
    "\n",
    "# Use the list() function to convert the \n",
    "# read file into a list of lists format.\n",
    "hn = list(read_file)\n",
    "\n",
    "# close the opened file\n",
    "opened_file.close()"
   ]
  },
  {
   "cell_type": "code",
   "execution_count": 2,
   "metadata": {},
   "outputs": [
    {
     "data": {
      "text/plain": [
       "[['id', 'title', 'url', 'num_points', 'num_comments', 'author', 'created_at'],\n",
       " ['12224879',\n",
       "  'Interactive Dynamic Video',\n",
       "  'http://www.interactivedynamicvideo.com/',\n",
       "  '386',\n",
       "  '52',\n",
       "  'ne0phyte',\n",
       "  '8/4/2016 11:52'],\n",
       " ['10975351',\n",
       "  'How to Use Open Source and Shut the Fuck Up at the Same Time',\n",
       "  'http://hueniverse.com/2016/01/26/how-to-use-open-source-and-shut-the-fuck-up-at-the-same-time/',\n",
       "  '39',\n",
       "  '10',\n",
       "  'josep2',\n",
       "  '1/26/2016 19:30'],\n",
       " ['11964716',\n",
       "  \"Florida DJs May Face Felony for April Fools' Water Joke\",\n",
       "  'http://www.thewire.com/entertainment/2013/04/florida-djs-april-fools-water-joke/63798/',\n",
       "  '2',\n",
       "  '1',\n",
       "  'vezycash',\n",
       "  '6/23/2016 22:20'],\n",
       " ['11919867',\n",
       "  'Technology ventures: From Idea to Enterprise',\n",
       "  'https://www.amazon.com/Technology-Ventures-Enterprise-Thomas-Byers/dp/0073523429',\n",
       "  '3',\n",
       "  '1',\n",
       "  'hswarna',\n",
       "  '6/17/2016 0:01']]"
      ]
     },
     "execution_count": 2,
     "metadata": {},
     "output_type": "execute_result"
    }
   ],
   "source": [
    "# Assign the results to variable hn\n",
    "# and display the first 5 rows\n",
    "hn[:5]"
   ]
  },
  {
   "cell_type": "markdown",
   "metadata": {},
   "source": [
    "### 1: Introduction - End"
   ]
  },
  {
   "cell_type": "markdown",
   "metadata": {},
   "source": [
    "### 2: Removing Headers from a List of Lists - Start"
   ]
  },
  {
   "cell_type": "code",
   "execution_count": 3,
   "metadata": {},
   "outputs": [
    {
     "name": "stdout",
     "output_type": "stream",
     "text": [
      "[['id', 'title', 'url', 'num_points', 'num_comments', 'author', 'created_at']]\n"
     ]
    }
   ],
   "source": [
    "# Extract the first row of data and assign it \n",
    "# to the variable \"headers\"\n",
    "headers = hn[:1]\n",
    "\n",
    "#Display headers\n",
    "print(headers)"
   ]
  },
  {
   "cell_type": "code",
   "execution_count": 4,
   "metadata": {},
   "outputs": [
    {
     "data": {
      "text/plain": [
       "[['12224879',\n",
       "  'Interactive Dynamic Video',\n",
       "  'http://www.interactivedynamicvideo.com/',\n",
       "  '386',\n",
       "  '52',\n",
       "  'ne0phyte',\n",
       "  '8/4/2016 11:52'],\n",
       " ['10975351',\n",
       "  'How to Use Open Source and Shut the Fuck Up at the Same Time',\n",
       "  'http://hueniverse.com/2016/01/26/how-to-use-open-source-and-shut-the-fuck-up-at-the-same-time/',\n",
       "  '39',\n",
       "  '10',\n",
       "  'josep2',\n",
       "  '1/26/2016 19:30'],\n",
       " ['11964716',\n",
       "  \"Florida DJs May Face Felony for April Fools' Water Joke\",\n",
       "  'http://www.thewire.com/entertainment/2013/04/florida-djs-april-fools-water-joke/63798/',\n",
       "  '2',\n",
       "  '1',\n",
       "  'vezycash',\n",
       "  '6/23/2016 22:20'],\n",
       " ['11919867',\n",
       "  'Technology ventures: From Idea to Enterprise',\n",
       "  'https://www.amazon.com/Technology-Ventures-Enterprise-Thomas-Byers/dp/0073523429',\n",
       "  '3',\n",
       "  '1',\n",
       "  'hswarna',\n",
       "  '6/17/2016 0:01'],\n",
       " ['10301696',\n",
       "  'Note by Note: The Making of Steinway L1037 (2007)',\n",
       "  'http://www.nytimes.com/2007/11/07/movies/07stein.html?_r=0',\n",
       "  '8',\n",
       "  '2',\n",
       "  'walterbell',\n",
       "  '9/30/2015 4:12']]"
      ]
     },
     "execution_count": 4,
     "metadata": {},
     "output_type": "execute_result"
    }
   ],
   "source": [
    "# remove the first row(headers)from hn\n",
    "hn = hn[1:]\n",
    "# display the first 5 records again \n",
    "# verify headers are not included\n",
    "hn[:5]"
   ]
  },
  {
   "cell_type": "markdown",
   "metadata": {},
   "source": [
    "### 2: Removing Headers from a List of Lists - End"
   ]
  },
  {
   "cell_type": "markdown",
   "metadata": {},
   "source": [
    "### 3: Extracting Ask HN and Show HN Posts - Start"
   ]
  },
  {
   "cell_type": "code",
   "execution_count": 5,
   "metadata": {},
   "outputs": [],
   "source": [
    "# create 3 empty lists \n",
    "ask_posts = []\n",
    "show_posts = []\n",
    "other_posts = []"
   ]
  },
  {
   "cell_type": "code",
   "execution_count": 6,
   "metadata": {},
   "outputs": [],
   "source": [
    "# loop through the titles in the HN lists. Categorize\n",
    "# and summarize the data\n",
    "for row in hn:\n",
    "    title = row[1].lower()\n",
    "    if title.startswith('ask hn'):\n",
    "        ask_posts.append(row)\n",
    "    if title.startswith('show hn'):\n",
    "        show_posts.append(row)\n",
    "    else:\n",
    "        other_posts.append(row)"
   ]
  },
  {
   "cell_type": "code",
   "execution_count": 7,
   "metadata": {},
   "outputs": [
    {
     "name": "stdout",
     "output_type": "stream",
     "text": [
      "Number of titles in ask_posts: 1744\n",
      "Number of titles in show_posts: 1162\n",
      "Number of titles in other_posts: 18938\n"
     ]
    }
   ],
   "source": [
    "# Check the number of posts in each list\n",
    "template = 'Number of titles in {list_name}: {num}'\n",
    "\n",
    "print(template.format(list_name='ask_posts', num=len(ask_posts)))\n",
    "print(template.format(list_name='show_posts', num=len(show_posts)))\n",
    "print(template.format(list_name='other_posts', num=len(other_posts)))\n"
   ]
  },
  {
   "cell_type": "code",
   "execution_count": 8,
   "metadata": {},
   "outputs": [],
   "source": [
    "#print(ask_posts)"
   ]
  },
  {
   "cell_type": "markdown",
   "metadata": {},
   "source": [
    "### 3: Extracting Ask HN and Show HN Posts - End"
   ]
  },
  {
   "cell_type": "markdown",
   "metadata": {},
   "source": [
    "### 4: Calculating the Average Number of Comments for Ask HN and Show HN Posts - Start"
   ]
  },
  {
   "cell_type": "code",
   "execution_count": 9,
   "metadata": {},
   "outputs": [
    {
     "name": "stdout",
     "output_type": "stream",
     "text": [
      "Total number of comments for ask_posts: 24483\n",
      "Avergage number of comments for ask_posts: 14.038417431192661\n",
      "Total number of comments for show_posts: 11988\n",
      "Avergage number of comments for show_posts: 10.31669535283993\n"
     ]
    }
   ],
   "source": [
    "total_ask_comments = 0\n",
    "total_show_comments = 0\n",
    "\n",
    "tot_template = 'Total number of comments for {list_name}: {num}'\n",
    "avg_template = 'Avergage number of comments for {list_name}: {num}'\n",
    "\n",
    "for row in ask_posts:\n",
    "    num_comments = int(row[4])\n",
    "    total_ask_comments +=num_comments\n",
    "    \n",
    "print(tot_template.format(list_name='ask_posts', num=total_ask_comments))    \n",
    "print(avg_template.format(list_name='ask_posts', num=total_ask_comments/len(ask_posts)))\n",
    "\n",
    "for row in show_posts:\n",
    "    num_comments = int(row[4])\n",
    "    total_show_comments +=num_comments\n",
    "    \n",
    "print(tot_template.format(list_name='show_posts', num=total_show_comments))    \n",
    "print(avg_template.format(list_name='show_posts', num=total_show_comments/len(show_posts)))\n",
    "\n",
    "    "
   ]
  },
  {
   "cell_type": "markdown",
   "metadata": {},
   "source": [
    "On average, Ask HackerNews posts receive 14 comments per post. Show HackerNews receives 10 comments per post."
   ]
  },
  {
   "cell_type": "markdown",
   "metadata": {},
   "source": [
    "### 4: Calculating the Average Number of Comments for Ask HN and Show HN Posts - End\n"
   ]
  },
  {
   "cell_type": "markdown",
   "metadata": {},
   "source": [
    "### 5: Finding the Amount of Ask Posts and Comments by Hour Created - Start"
   ]
  },
  {
   "cell_type": "code",
   "execution_count": 10,
   "metadata": {
    "scrolled": true
   },
   "outputs": [
    {
     "name": "stdout",
     "output_type": "stream",
     "text": [
      "2016-05-21 09:22:00\n",
      "09\n",
      "{'09': 45, '13': 85, '10': 59, '14': 107, '16': 108, '23': 68, '12': 73, '17': 100, '15': 116, '21': 109, '20': 80, '02': 58, '18': 109, '03': 54, '05': 46, '19': 110, '01': 60, '22': 71, '08': 48, '04': 47, '00': 55, '06': 44, '07': 34, '11': 58}\n",
      "{'09': 251, '13': 1253, '10': 793, '14': 1416, '16': 1814, '23': 543, '12': 687, '17': 1146, '15': 4477, '21': 1745, '20': 1722, '02': 1381, '18': 1439, '03': 421, '05': 464, '19': 1188, '01': 683, '22': 479, '08': 492, '04': 337, '00': 447, '06': 397, '07': 267, '11': 641}\n",
      "[['8/16/2016 9:55', 6], ['11/22/2015 13:43', 29], ['5/2/2016 10:14', 1], ['8/2/2016 14:20', 3], ['10/15/2015 16:38', 17]]\n"
     ]
    }
   ],
   "source": [
    "import datetime as dt\n",
    "\n",
    "# create and empty list and append created_at and num_comments\n",
    "\n",
    "result_list = []\n",
    "\n",
    "for row in ask_posts:\n",
    "    created_at = row[6]\n",
    "    num_comments = int(row[4])\n",
    "    result_list.append([created_at, num_comments])\n",
    "    #result_list.append(num_comments)\n",
    "    \n",
    "result_list[:5]\n",
    "\n",
    "counts_by_hour = {}\n",
    "comments_by_hour = {}\n",
    "\n",
    "for row in result_list:\n",
    "    date = dt.datetime.strptime(row[0], \"%m/%d/%Y %H:%M\")\n",
    "    hour = dt.datetime.strftime(date, \"%H\")\n",
    "    \n",
    "    if hour in counts_by_hour:\n",
    "        counts_by_hour[hour] += 1\n",
    "        comments_by_hour[hour] += row[1]\n",
    "    else:\n",
    "        counts_by_hour[hour] = 1\n",
    "        comments_by_hour[hour] = row[1]\n",
    "\n",
    "print(date)\n",
    "print(hour)\n",
    "print(counts_by_hour)\n",
    "print(comments_by_hour)\n",
    "print(result_list[:5])"
   ]
  },
  {
   "cell_type": "markdown",
   "metadata": {},
   "source": [
    "### 5: Finding the Amount of Ask Posts and Comments by Hour Created - End"
   ]
  },
  {
   "cell_type": "markdown",
   "metadata": {},
   "source": [
    "### 6: Calculating the Average Number of Comments for Ask HN Posts by Hour - Start"
   ]
  },
  {
   "cell_type": "code",
   "execution_count": 11,
   "metadata": {},
   "outputs": [
    {
     "data": {
      "text/plain": [
       "[['09', 45, 251, 5.5777777777777775],\n",
       " ['13', 85, 1253, 14.741176470588234],\n",
       " ['10', 59, 793, 13.440677966101696],\n",
       " ['14', 107, 1416, 13.233644859813085],\n",
       " ['16', 108, 1814, 16.796296296296298],\n",
       " ['23', 68, 543, 7.985294117647059],\n",
       " ['12', 73, 687, 9.41095890410959],\n",
       " ['17', 100, 1146, 11.46],\n",
       " ['15', 116, 4477, 38.5948275862069],\n",
       " ['21', 109, 1745, 16.009174311926607],\n",
       " ['20', 80, 1722, 21.525],\n",
       " ['02', 58, 1381, 23.810344827586206],\n",
       " ['18', 109, 1439, 13.20183486238532],\n",
       " ['03', 54, 421, 7.796296296296297],\n",
       " ['05', 46, 464, 10.08695652173913],\n",
       " ['19', 110, 1188, 10.8],\n",
       " ['01', 60, 683, 11.383333333333333],\n",
       " ['22', 71, 479, 6.746478873239437],\n",
       " ['08', 48, 492, 10.25],\n",
       " ['04', 47, 337, 7.170212765957447],\n",
       " ['00', 55, 447, 8.127272727272727],\n",
       " ['06', 44, 397, 9.022727272727273],\n",
       " ['07', 34, 267, 7.852941176470588],\n",
       " ['11', 58, 641, 11.051724137931034]]"
      ]
     },
     "execution_count": 11,
     "metadata": {},
     "output_type": "execute_result"
    }
   ],
   "source": [
    " \n",
    "# Calc the avg number of comments per post by hour\n",
    "# ['hour': avg_num_comments_per_post] \n",
    "avg_by_hour = []\n",
    "#print(result_list)\n",
    "\n",
    "\n",
    "for key in counts_by_hour:\n",
    "    #use the key to set variable hour\n",
    "    hour = key \n",
    "    #use the key-value to set variable counts\n",
    "    counts = counts_by_hour[key]\n",
    "    #use the key to lookup the value in comments_by_hour dict\n",
    "    comments = comments_by_hour[key]\n",
    "    #calculate the avg\n",
    "    avg = int(comments)/int(counts)\n",
    "    #print(hour, counts, comments, avg)\n",
    "    #create the list of lists with avg\n",
    "    avg_by_hour.append([hour, counts, comments, avg])\n",
    "    \n",
    "avg_by_hour"
   ]
  },
  {
   "cell_type": "markdown",
   "metadata": {},
   "source": [
    "### 6: Calculating the Average Number of Comments for Ask HN Posts by Hour - End"
   ]
  },
  {
   "cell_type": "markdown",
   "metadata": {},
   "source": [
    "### 7: Sorting and Printing Values from a List of Lists - Start"
   ]
  },
  {
   "cell_type": "code",
   "execution_count": 22,
   "metadata": {},
   "outputs": [
    {
     "name": "stdout",
     "output_type": "stream",
     "text": [
      "Top 5 Hours for Ask Posts Comments\n",
      "15:00: 38.59 average comments per post\n",
      "02:00: 23.81 average comments per post\n",
      "20:00: 21.52 average comments per post\n",
      "16:00: 16.80 average comments per post\n",
      "21:00: 16.01 average comments per post\n"
     ]
    }
   ],
   "source": [
    "swap_avg_by_hour = []\n",
    "sorted_swap = []\n",
    "\n",
    "for rec in avg_by_hour:\n",
    "    hour = rec[0]\n",
    "    avg = rec[3]\n",
    "    swap_avg_by_hour.append([avg, hour])\n",
    "    \n",
    "swap_avg_by_hour\n",
    "sorted_swap = sorted(swap_avg_by_hour, reverse=True)\n",
    "\n",
    "template = \"{time}: {avg:.2f} average comments per post\"\n",
    "\n",
    "#sorted_swap[:5]\n",
    "print(\"Top 5 Hours for Ask Posts Comments\")\n",
    "\n",
    "for row in sorted_swap[:5]:\n",
    "    avg = row[0]\n",
    "    hour = row[1]\n",
    "    time = dt.datetime.strptime(hour, \"%H\")\n",
    "    hr_out = dt.datetime.strftime(time, \"%H:%M\")\n",
    "    print(template.format(time=hr_out, avg=avg))\n",
    "    \n"
   ]
  },
  {
   "cell_type": "markdown",
   "metadata": {},
   "source": [
    "The best time to create a post and get the most comments is 15:00 or 3:00 PM."
   ]
  },
  {
   "cell_type": "markdown",
   "metadata": {},
   "source": [
    "### 7: Sorting and Printing Values from a List of Lists - End"
   ]
  },
  {
   "cell_type": "code",
   "execution_count": null,
   "metadata": {},
   "outputs": [],
   "source": []
  }
 ],
 "metadata": {
  "kernelspec": {
   "display_name": "Python 3",
   "language": "python",
   "name": "python3"
  },
  "language_info": {
   "codemirror_mode": {
    "name": "ipython",
    "version": 3
   },
   "file_extension": ".py",
   "mimetype": "text/x-python",
   "name": "python",
   "nbconvert_exporter": "python",
   "pygments_lexer": "ipython3",
   "version": "3.8.2"
  }
 },
 "nbformat": 4,
 "nbformat_minor": 2
}
